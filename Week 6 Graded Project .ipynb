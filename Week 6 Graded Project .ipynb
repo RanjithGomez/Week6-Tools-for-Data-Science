{
 "cells": [
  {
   "cell_type": "markdown",
   "id": "149ad751-c45a-40f3-9e57-a489754487b8",
   "metadata": {},
   "source": [
    "### Week - 6 - Graded Submission "
   ]
  },
  {
   "cell_type": "markdown",
   "id": "4457add7-a14b-4a39-89ae-3e8c83697ff7",
   "metadata": {},
   "source": [
    "Introduction:\n",
    "This is a jupyter notebook made for graded submission for week 6 of Tools for Data science"
   ]
  },
  {
   "cell_type": "markdown",
   "id": "997c24ce-9a05-490c-99ec-948c55b96afd",
   "metadata": {},
   "source": [
    "Objectives: To demonstrate understanding of Jupyter Notebook. "
   ]
  },
  {
   "cell_type": "markdown",
   "id": "7573cadd-3e72-45dc-a174-a5368a40731a",
   "metadata": {},
   "source": [
    "Data Science Languages : \n",
    "\n",
    "Python\n",
    "R\n",
    "Scala\n",
    "Julia"
   ]
  },
  {
   "cell_type": "markdown",
   "id": "ae1c92e8-3bad-40f4-9582-8f0d452fe7b5",
   "metadata": {},
   "source": [
    "Data Science Libraries : \n",
    "\n",
    "Numpy, Pandas, TensorFlow, Pytorch, caret, ggplot, plotly etc."
   ]
  },
  {
   "cell_type": "markdown",
   "id": "749874c4-e509-4e17-a77c-cdfa627b4986",
   "metadata": {},
   "source": [
    "Data Science Tools : \n",
    "\n",
    "Pyspark\n",
    "Tableau\n",
    "Powerbi\n",
    "Excel\n",
    "Python\n",
    "SQL"
   ]
  },
  {
   "cell_type": "markdown",
   "id": "f00a222d-2f3f-402c-ad73-28dcf2c39699",
   "metadata": {},
   "source": [
    "Arithmetic Expression Examples \n",
    "Introduction : In Python We can perform all airhmetic operations on numbers"
   ]
  },
  {
   "cell_type": "code",
   "execution_count": 13,
   "id": "d6c1d652-5db5-4872-a507-0ee8e4370d8a",
   "metadata": {},
   "outputs": [
    {
     "data": {
      "text/plain": [
       "210"
      ]
     },
     "execution_count": 13,
     "metadata": {},
     "output_type": "execute_result"
    }
   ],
   "source": [
    "10*20 + 10"
   ]
  },
  {
   "cell_type": "code",
   "execution_count": 7,
   "id": "81c72195-9b1b-4588-8e2a-5c1f7b29283d",
   "metadata": {},
   "outputs": [
    {
     "data": {
      "text/plain": [
       "3.0"
      ]
     },
     "execution_count": 7,
     "metadata": {},
     "output_type": "execute_result"
    }
   ],
   "source": [
    "# Minutes to Hours\n",
    "m = 180\n",
    "h = m/60\n",
    "h"
   ]
  },
  {
   "cell_type": "markdown",
   "id": "a0e14f4c-615e-4c45-a234-da4143f8077a",
   "metadata": {},
   "source": [
    "Author Name:\n",
    "Ranjith"
   ]
  },
  {
   "cell_type": "code",
   "execution_count": null,
   "id": "87b71518-ee11-4850-8c74-b05943cdbff6",
   "metadata": {},
   "outputs": [],
   "source": []
  }
 ],
 "metadata": {
  "kernelspec": {
   "display_name": "Python 3 (ipykernel)",
   "language": "python",
   "name": "python3"
  },
  "language_info": {
   "codemirror_mode": {
    "name": "ipython",
    "version": 3
   },
   "file_extension": ".py",
   "mimetype": "text/x-python",
   "name": "python",
   "nbconvert_exporter": "python",
   "pygments_lexer": "ipython3",
   "version": "3.11.7"
  }
 },
 "nbformat": 4,
 "nbformat_minor": 5
}
